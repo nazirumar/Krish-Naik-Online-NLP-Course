{
  "cells": [
    {
      "cell_type": "markdown",
      "metadata": {
        "id": "view-in-github",
        "colab_type": "text"
      },
      "source": [
        "<a href=\"https://colab.research.google.com/github/nazirumar/Krish-Naik-Online-NLP-Course/blob/main/Word_embedding_Techniques.ipynb\" target=\"_parent\"><img src=\"https://colab.research.google.com/assets/colab-badge.svg\" alt=\"Open In Colab\"/></a>"
      ]
    },
    {
      "cell_type": "markdown",
      "metadata": {
        "id": "eHNf7J680XF-"
      },
      "source": [
        "### Word Embedding Techniques using Embedding Layer in Keras"
      ]
    },
    {
      "cell_type": "code",
      "execution_count": null,
      "metadata": {
        "id": "PEsK0_yl0XGB"
      },
      "outputs": [],
      "source": [
        "### Libraries USed Tensorflow> 2.0  and keras"
      ]
    },
    {
      "cell_type": "code",
      "execution_count": 1,
      "metadata": {
        "colab": {
          "base_uri": "https://localhost:8080/"
        },
        "id": "pslw1Ya90XGC",
        "outputId": "c1056305-73d9-4c8b-ae12-13b49beaf457"
      },
      "outputs": [
        {
          "output_type": "stream",
          "name": "stdout",
          "text": [
            "Looking in indexes: https://pypi.org/simple, https://us-python.pkg.dev/colab-wheels/public/simple/\n",
            "Collecting tensorflow-gpu\n",
            "  Downloading tensorflow_gpu-2.9.1-cp37-cp37m-manylinux_2_17_x86_64.manylinux2014_x86_64.whl (511.7 MB)\n",
            "\u001b[K     |████████████████████████████████| 511.7 MB 6.4 kB/s \n",
            "\u001b[?25hRequirement already satisfied: six>=1.12.0 in /usr/local/lib/python3.7/dist-packages (from tensorflow-gpu) (1.15.0)\n",
            "Requirement already satisfied: absl-py>=1.0.0 in /usr/local/lib/python3.7/dist-packages (from tensorflow-gpu) (1.1.0)\n",
            "Requirement already satisfied: tensorflow-io-gcs-filesystem>=0.23.1 in /usr/local/lib/python3.7/dist-packages (from tensorflow-gpu) (0.26.0)\n",
            "Requirement already satisfied: grpcio<2.0,>=1.24.3 in /usr/local/lib/python3.7/dist-packages (from tensorflow-gpu) (1.46.3)\n",
            "Collecting tensorflow-estimator<2.10.0,>=2.9.0rc0\n",
            "  Downloading tensorflow_estimator-2.9.0-py2.py3-none-any.whl (438 kB)\n",
            "\u001b[K     |████████████████████████████████| 438 kB 70.9 MB/s \n",
            "\u001b[?25hRequirement already satisfied: protobuf<3.20,>=3.9.2 in /usr/local/lib/python3.7/dist-packages (from tensorflow-gpu) (3.17.3)\n",
            "Requirement already satisfied: h5py>=2.9.0 in /usr/local/lib/python3.7/dist-packages (from tensorflow-gpu) (3.1.0)\n",
            "Requirement already satisfied: astunparse>=1.6.0 in /usr/local/lib/python3.7/dist-packages (from tensorflow-gpu) (1.6.3)\n",
            "Requirement already satisfied: termcolor>=1.1.0 in /usr/local/lib/python3.7/dist-packages (from tensorflow-gpu) (1.1.0)\n",
            "Collecting keras<2.10.0,>=2.9.0rc0\n",
            "  Downloading keras-2.9.0-py2.py3-none-any.whl (1.6 MB)\n",
            "\u001b[K     |████████████████████████████████| 1.6 MB 64.8 MB/s \n",
            "\u001b[?25hCollecting flatbuffers<2,>=1.12\n",
            "  Downloading flatbuffers-1.12-py2.py3-none-any.whl (15 kB)\n",
            "Collecting gast<=0.4.0,>=0.2.1\n",
            "  Downloading gast-0.4.0-py3-none-any.whl (9.8 kB)\n",
            "Requirement already satisfied: typing-extensions>=3.6.6 in /usr/local/lib/python3.7/dist-packages (from tensorflow-gpu) (4.1.1)\n",
            "Requirement already satisfied: setuptools in /usr/local/lib/python3.7/dist-packages (from tensorflow-gpu) (57.4.0)\n",
            "Requirement already satisfied: wrapt>=1.11.0 in /usr/local/lib/python3.7/dist-packages (from tensorflow-gpu) (1.14.1)\n",
            "Requirement already satisfied: libclang>=13.0.0 in /usr/local/lib/python3.7/dist-packages (from tensorflow-gpu) (14.0.1)\n",
            "Requirement already satisfied: packaging in /usr/local/lib/python3.7/dist-packages (from tensorflow-gpu) (21.3)\n",
            "Requirement already satisfied: keras-preprocessing>=1.1.1 in /usr/local/lib/python3.7/dist-packages (from tensorflow-gpu) (1.1.2)\n",
            "Requirement already satisfied: opt-einsum>=2.3.2 in /usr/local/lib/python3.7/dist-packages (from tensorflow-gpu) (3.3.0)\n",
            "Collecting tensorboard<2.10,>=2.9\n",
            "  Downloading tensorboard-2.9.1-py3-none-any.whl (5.8 MB)\n",
            "\u001b[K     |████████████████████████████████| 5.8 MB 55.3 MB/s \n",
            "\u001b[?25hRequirement already satisfied: numpy>=1.20 in /usr/local/lib/python3.7/dist-packages (from tensorflow-gpu) (1.21.6)\n",
            "Requirement already satisfied: google-pasta>=0.1.1 in /usr/local/lib/python3.7/dist-packages (from tensorflow-gpu) (0.2.0)\n",
            "Requirement already satisfied: wheel<1.0,>=0.23.0 in /usr/local/lib/python3.7/dist-packages (from astunparse>=1.6.0->tensorflow-gpu) (0.37.1)\n",
            "Requirement already satisfied: cached-property in /usr/local/lib/python3.7/dist-packages (from h5py>=2.9.0->tensorflow-gpu) (1.5.2)\n",
            "Requirement already satisfied: requests<3,>=2.21.0 in /usr/local/lib/python3.7/dist-packages (from tensorboard<2.10,>=2.9->tensorflow-gpu) (2.23.0)\n",
            "Requirement already satisfied: google-auth-oauthlib<0.5,>=0.4.1 in /usr/local/lib/python3.7/dist-packages (from tensorboard<2.10,>=2.9->tensorflow-gpu) (0.4.6)\n",
            "Requirement already satisfied: markdown>=2.6.8 in /usr/local/lib/python3.7/dist-packages (from tensorboard<2.10,>=2.9->tensorflow-gpu) (3.3.7)\n",
            "Requirement already satisfied: google-auth<3,>=1.6.3 in /usr/local/lib/python3.7/dist-packages (from tensorboard<2.10,>=2.9->tensorflow-gpu) (1.35.0)\n",
            "Requirement already satisfied: werkzeug>=1.0.1 in /usr/local/lib/python3.7/dist-packages (from tensorboard<2.10,>=2.9->tensorflow-gpu) (1.0.1)\n",
            "Requirement already satisfied: tensorboard-plugin-wit>=1.6.0 in /usr/local/lib/python3.7/dist-packages (from tensorboard<2.10,>=2.9->tensorflow-gpu) (1.8.1)\n",
            "Requirement already satisfied: tensorboard-data-server<0.7.0,>=0.6.0 in /usr/local/lib/python3.7/dist-packages (from tensorboard<2.10,>=2.9->tensorflow-gpu) (0.6.1)\n",
            "Requirement already satisfied: rsa<5,>=3.1.4 in /usr/local/lib/python3.7/dist-packages (from google-auth<3,>=1.6.3->tensorboard<2.10,>=2.9->tensorflow-gpu) (4.8)\n",
            "Requirement already satisfied: cachetools<5.0,>=2.0.0 in /usr/local/lib/python3.7/dist-packages (from google-auth<3,>=1.6.3->tensorboard<2.10,>=2.9->tensorflow-gpu) (4.2.4)\n",
            "Requirement already satisfied: pyasn1-modules>=0.2.1 in /usr/local/lib/python3.7/dist-packages (from google-auth<3,>=1.6.3->tensorboard<2.10,>=2.9->tensorflow-gpu) (0.2.8)\n",
            "Requirement already satisfied: requests-oauthlib>=0.7.0 in /usr/local/lib/python3.7/dist-packages (from google-auth-oauthlib<0.5,>=0.4.1->tensorboard<2.10,>=2.9->tensorflow-gpu) (1.3.1)\n",
            "Requirement already satisfied: importlib-metadata>=4.4 in /usr/local/lib/python3.7/dist-packages (from markdown>=2.6.8->tensorboard<2.10,>=2.9->tensorflow-gpu) (4.11.4)\n",
            "Requirement already satisfied: zipp>=0.5 in /usr/local/lib/python3.7/dist-packages (from importlib-metadata>=4.4->markdown>=2.6.8->tensorboard<2.10,>=2.9->tensorflow-gpu) (3.8.0)\n",
            "Requirement already satisfied: pyasn1<0.5.0,>=0.4.6 in /usr/local/lib/python3.7/dist-packages (from pyasn1-modules>=0.2.1->google-auth<3,>=1.6.3->tensorboard<2.10,>=2.9->tensorflow-gpu) (0.4.8)\n",
            "Requirement already satisfied: urllib3!=1.25.0,!=1.25.1,<1.26,>=1.21.1 in /usr/local/lib/python3.7/dist-packages (from requests<3,>=2.21.0->tensorboard<2.10,>=2.9->tensorflow-gpu) (1.24.3)\n",
            "Requirement already satisfied: idna<3,>=2.5 in /usr/local/lib/python3.7/dist-packages (from requests<3,>=2.21.0->tensorboard<2.10,>=2.9->tensorflow-gpu) (2.10)\n",
            "Requirement already satisfied: certifi>=2017.4.17 in /usr/local/lib/python3.7/dist-packages (from requests<3,>=2.21.0->tensorboard<2.10,>=2.9->tensorflow-gpu) (2022.6.15)\n",
            "Requirement already satisfied: chardet<4,>=3.0.2 in /usr/local/lib/python3.7/dist-packages (from requests<3,>=2.21.0->tensorboard<2.10,>=2.9->tensorflow-gpu) (3.0.4)\n",
            "Requirement already satisfied: oauthlib>=3.0.0 in /usr/local/lib/python3.7/dist-packages (from requests-oauthlib>=0.7.0->google-auth-oauthlib<0.5,>=0.4.1->tensorboard<2.10,>=2.9->tensorflow-gpu) (3.2.0)\n",
            "Requirement already satisfied: pyparsing!=3.0.5,>=2.0.2 in /usr/local/lib/python3.7/dist-packages (from packaging->tensorflow-gpu) (3.0.9)\n",
            "Installing collected packages: tensorflow-estimator, tensorboard, keras, gast, flatbuffers, tensorflow-gpu\n",
            "  Attempting uninstall: tensorflow-estimator\n",
            "    Found existing installation: tensorflow-estimator 2.8.0\n",
            "    Uninstalling tensorflow-estimator-2.8.0:\n",
            "      Successfully uninstalled tensorflow-estimator-2.8.0\n",
            "  Attempting uninstall: tensorboard\n",
            "    Found existing installation: tensorboard 2.8.0\n",
            "    Uninstalling tensorboard-2.8.0:\n",
            "      Successfully uninstalled tensorboard-2.8.0\n",
            "  Attempting uninstall: keras\n",
            "    Found existing installation: keras 2.8.0\n",
            "    Uninstalling keras-2.8.0:\n",
            "      Successfully uninstalled keras-2.8.0\n",
            "  Attempting uninstall: gast\n",
            "    Found existing installation: gast 0.5.3\n",
            "    Uninstalling gast-0.5.3:\n",
            "      Successfully uninstalled gast-0.5.3\n",
            "  Attempting uninstall: flatbuffers\n",
            "    Found existing installation: flatbuffers 2.0\n",
            "    Uninstalling flatbuffers-2.0:\n",
            "      Successfully uninstalled flatbuffers-2.0\n",
            "\u001b[31mERROR: pip's dependency resolver does not currently take into account all the packages that are installed. This behaviour is the source of the following dependency conflicts.\n",
            "tensorflow 2.8.2+zzzcolab20220527125636 requires keras<2.9,>=2.8.0rc0, but you have keras 2.9.0 which is incompatible.\n",
            "tensorflow 2.8.2+zzzcolab20220527125636 requires tensorboard<2.9,>=2.8, but you have tensorboard 2.9.1 which is incompatible.\n",
            "tensorflow 2.8.2+zzzcolab20220527125636 requires tensorflow-estimator<2.9,>=2.8, but you have tensorflow-estimator 2.9.0 which is incompatible.\u001b[0m\n",
            "Successfully installed flatbuffers-1.12 gast-0.4.0 keras-2.9.0 tensorboard-2.9.1 tensorflow-estimator-2.9.0 tensorflow-gpu-2.9.1\n"
          ]
        }
      ],
      "source": [
        "!pip install tensorflow-gpu"
      ]
    },
    {
      "cell_type": "code",
      "source": [
        "import tensorflow as tf\n",
        "print(tf.__version__)"
      ],
      "metadata": {
        "colab": {
          "base_uri": "https://localhost:8080/"
        },
        "id": "yZ5hceiMAX7n",
        "outputId": "5188c479-58cb-41ca-bfe6-4a2b5a916b9a"
      },
      "execution_count": 2,
      "outputs": [
        {
          "output_type": "stream",
          "name": "stdout",
          "text": [
            "2.9.1\n"
          ]
        }
      ]
    },
    {
      "cell_type": "code",
      "execution_count": 3,
      "metadata": {
        "id": "k4nKifUl0XGC"
      },
      "outputs": [],
      "source": [
        "##tensorflow >2.0\n",
        "from tensorflow.keras.preprocessing.text import one_hot"
      ]
    },
    {
      "cell_type": "code",
      "source": [
        ""
      ],
      "metadata": {
        "id": "hADTdqZTAUfS"
      },
      "execution_count": null,
      "outputs": []
    },
    {
      "cell_type": "code",
      "execution_count": 4,
      "metadata": {
        "id": "Fu9PuYeu0XGD"
      },
      "outputs": [],
      "source": [
        "### sentences\n",
        "sent=[  'the glass of milk',\n",
        "     'the glass of juice',\n",
        "     'the cup of tea',\n",
        "    'I am a good boy',\n",
        "     'I am a good developer',\n",
        "     'understand the meaning of words',\n",
        "     'your videos are good']"
      ]
    },
    {
      "cell_type": "code",
      "execution_count": 5,
      "metadata": {
        "colab": {
          "base_uri": "https://localhost:8080/"
        },
        "id": "x5d1D3_20XGD",
        "outputId": "b2ab26fa-9847-4516-97c4-ab253fae0de8"
      },
      "outputs": [
        {
          "output_type": "execute_result",
          "data": {
            "text/plain": [
              "['the glass of milk',\n",
              " 'the glass of juice',\n",
              " 'the cup of tea',\n",
              " 'I am a good boy',\n",
              " 'I am a good developer',\n",
              " 'understand the meaning of words',\n",
              " 'your videos are good']"
            ]
          },
          "metadata": {},
          "execution_count": 5
        }
      ],
      "source": [
        "sent"
      ]
    },
    {
      "cell_type": "code",
      "execution_count": 6,
      "metadata": {
        "id": "tjnXIn3B0XGE"
      },
      "outputs": [],
      "source": [
        "### Vocabulary size\n",
        "voc_size=500"
      ]
    },
    {
      "cell_type": "markdown",
      "metadata": {
        "id": "-vQOdeKk0XGE"
      },
      "source": [
        "#### One Hot Representation"
      ]
    },
    {
      "cell_type": "code",
      "execution_count": 7,
      "metadata": {
        "colab": {
          "base_uri": "https://localhost:8080/"
        },
        "id": "gojfZpAW0XGE",
        "outputId": "6d9ec604-53cd-493f-c0ab-8c6fa0abb1e0"
      },
      "outputs": [
        {
          "output_type": "stream",
          "name": "stdout",
          "text": [
            "[[427, 46, 147, 103], [427, 46, 147, 5], [427, 438, 147, 317], [363, 365, 81, 311, 252], [363, 365, 81, 311, 119], [177, 427, 308, 147, 74], [29, 468, 158, 311]]\n"
          ]
        }
      ],
      "source": [
        "onehot_repr=[one_hot(words,voc_size)for words in sent] \n",
        "print(onehot_repr)"
      ]
    },
    {
      "cell_type": "markdown",
      "metadata": {
        "id": "eYG267x40XGF"
      },
      "source": [
        "### Word Embedding Represntation"
      ]
    },
    {
      "cell_type": "code",
      "execution_count": 8,
      "metadata": {
        "id": "wpqPm0tb0XGF"
      },
      "outputs": [],
      "source": [
        "from tensorflow.keras.layers import Embedding\n",
        "from tensorflow.keras.preprocessing.sequence import pad_sequences\n",
        "from tensorflow.keras.models import Sequential"
      ]
    },
    {
      "cell_type": "code",
      "execution_count": 9,
      "metadata": {
        "id": "Rov3GTM00XGG"
      },
      "outputs": [],
      "source": [
        "import numpy as np"
      ]
    },
    {
      "cell_type": "code",
      "execution_count": 10,
      "metadata": {
        "colab": {
          "base_uri": "https://localhost:8080/"
        },
        "id": "8fQLPw6p0XGG",
        "outputId": "72c7bfd4-395a-4de2-a556-72ed38f12344"
      },
      "outputs": [
        {
          "output_type": "stream",
          "name": "stdout",
          "text": [
            "[[  0   0   0   0 427  46 147 103]\n",
            " [  0   0   0   0 427  46 147   5]\n",
            " [  0   0   0   0 427 438 147 317]\n",
            " [  0   0   0 363 365  81 311 252]\n",
            " [  0   0   0 363 365  81 311 119]\n",
            " [  0   0   0 177 427 308 147  74]\n",
            " [  0   0   0   0  29 468 158 311]]\n"
          ]
        }
      ],
      "source": [
        "## pre padding\n",
        "sent_length=8\n",
        "embedded_docs=pad_sequences(onehot_repr,padding='pre',maxlen=sent_length)\n",
        "print(embedded_docs)"
      ]
    },
    {
      "cell_type": "code",
      "execution_count": 11,
      "metadata": {
        "id": "yjQqBYac0XGG"
      },
      "outputs": [],
      "source": [
        "## 10 feature dimesnions\n",
        "dim=10\n"
      ]
    },
    {
      "cell_type": "code",
      "execution_count": 12,
      "metadata": {
        "id": "ozC-TXrt0XGG"
      },
      "outputs": [],
      "source": [
        "model=Sequential()\n",
        "model.add(Embedding(voc_size,10,input_length=sent_length))\n",
        "model.compile('adam','mse')"
      ]
    },
    {
      "cell_type": "code",
      "execution_count": 13,
      "metadata": {
        "colab": {
          "base_uri": "https://localhost:8080/"
        },
        "id": "tMNvq-Ji0XGH",
        "outputId": "3065b8a9-6e69-48a9-9b17-0e1d73c7c799"
      },
      "outputs": [
        {
          "output_type": "stream",
          "name": "stdout",
          "text": [
            "Model: \"sequential\"\n",
            "_________________________________________________________________\n",
            " Layer (type)                Output Shape              Param #   \n",
            "=================================================================\n",
            " embedding (Embedding)       (None, 8, 10)             5000      \n",
            "                                                                 \n",
            "=================================================================\n",
            "Total params: 5,000\n",
            "Trainable params: 5,000\n",
            "Non-trainable params: 0\n",
            "_________________________________________________________________\n"
          ]
        }
      ],
      "source": [
        "model.summary()"
      ]
    },
    {
      "cell_type": "code",
      "source": [
        "##'the glass of milk',\n",
        "embedded_docs[0]"
      ],
      "metadata": {
        "colab": {
          "base_uri": "https://localhost:8080/"
        },
        "id": "FC4Ess_FEcb3",
        "outputId": "a021d396-cadd-4e9d-c64a-617b05a9d4dc"
      },
      "execution_count": 14,
      "outputs": [
        {
          "output_type": "execute_result",
          "data": {
            "text/plain": [
              "array([  0,   0,   0,   0, 427,  46, 147, 103], dtype=int32)"
            ]
          },
          "metadata": {},
          "execution_count": 14
        }
      ]
    },
    {
      "cell_type": "code",
      "source": [
        "model.predict(embedded_docs[0])"
      ],
      "metadata": {
        "colab": {
          "base_uri": "https://localhost:8080/"
        },
        "id": "bRqEvMBYEZUS",
        "outputId": "91db8846-d6fa-4c0a-cada-1cc5085efd61"
      },
      "execution_count": 15,
      "outputs": [
        {
          "output_type": "stream",
          "name": "stdout",
          "text": [
            "WARNING:tensorflow:Model was constructed with shape (None, 8) for input KerasTensor(type_spec=TensorSpec(shape=(None, 8), dtype=tf.float32, name='embedding_input'), name='embedding_input', description=\"created by layer 'embedding_input'\"), but it was called on an input with incompatible shape (None,).\n",
            "1/1 [==============================] - 0s 78ms/step\n"
          ]
        },
        {
          "output_type": "execute_result",
          "data": {
            "text/plain": [
              "array([[-0.04898713,  0.02676809, -0.0292622 ,  0.00895777, -0.0095344 ,\n",
              "        -0.03707396,  0.01283722,  0.0156354 ,  0.01766429, -0.02549417],\n",
              "       [-0.04898713,  0.02676809, -0.0292622 ,  0.00895777, -0.0095344 ,\n",
              "        -0.03707396,  0.01283722,  0.0156354 ,  0.01766429, -0.02549417],\n",
              "       [-0.04898713,  0.02676809, -0.0292622 ,  0.00895777, -0.0095344 ,\n",
              "        -0.03707396,  0.01283722,  0.0156354 ,  0.01766429, -0.02549417],\n",
              "       [-0.04898713,  0.02676809, -0.0292622 ,  0.00895777, -0.0095344 ,\n",
              "        -0.03707396,  0.01283722,  0.0156354 ,  0.01766429, -0.02549417],\n",
              "       [ 0.02199962, -0.02709605, -0.00978176,  0.03709323,  0.02613953,\n",
              "        -0.04173116,  0.00935407, -0.03405546,  0.04438615,  0.03241302],\n",
              "       [-0.04768651,  0.00566297,  0.03443575, -0.04504567, -0.02409365,\n",
              "        -0.03452586,  0.02915926, -0.04244149,  0.00789688, -0.00582433],\n",
              "       [-0.02864064, -0.02370998, -0.03276775, -0.00213872,  0.00828834,\n",
              "         0.0223207 , -0.03680345, -0.04426513, -0.04020549,  0.02939837],\n",
              "       [-0.00898389,  0.03454154,  0.02097166,  0.01136829,  0.00340428,\n",
              "         0.00063904, -0.04031356,  0.00267664,  0.03718266,  0.04585446]],\n",
              "      dtype=float32)"
            ]
          },
          "metadata": {},
          "execution_count": 15
        }
      ]
    },
    {
      "cell_type": "code",
      "execution_count": 16,
      "metadata": {
        "colab": {
          "base_uri": "https://localhost:8080/"
        },
        "id": "kzKP69gx0XGH",
        "outputId": "2dfb22af-331b-48a4-a010-ade96b397027"
      },
      "outputs": [
        {
          "output_type": "stream",
          "name": "stdout",
          "text": [
            "1/1 [==============================] - 0s 31ms/step\n",
            "[[[-0.04898713  0.02676809 -0.0292622   0.00895777 -0.0095344\n",
            "   -0.03707396  0.01283722  0.0156354   0.01766429 -0.02549417]\n",
            "  [-0.04898713  0.02676809 -0.0292622   0.00895777 -0.0095344\n",
            "   -0.03707396  0.01283722  0.0156354   0.01766429 -0.02549417]\n",
            "  [-0.04898713  0.02676809 -0.0292622   0.00895777 -0.0095344\n",
            "   -0.03707396  0.01283722  0.0156354   0.01766429 -0.02549417]\n",
            "  [-0.04898713  0.02676809 -0.0292622   0.00895777 -0.0095344\n",
            "   -0.03707396  0.01283722  0.0156354   0.01766429 -0.02549417]\n",
            "  [ 0.02199962 -0.02709605 -0.00978176  0.03709323  0.02613953\n",
            "   -0.04173116  0.00935407 -0.03405546  0.04438615  0.03241302]\n",
            "  [-0.04768651  0.00566297  0.03443575 -0.04504567 -0.02409365\n",
            "   -0.03452586  0.02915926 -0.04244149  0.00789688 -0.00582433]\n",
            "  [-0.02864064 -0.02370998 -0.03276775 -0.00213872  0.00828834\n",
            "    0.0223207  -0.03680345 -0.04426513 -0.04020549  0.02939837]\n",
            "  [-0.00898389  0.03454154  0.02097166  0.01136829  0.00340428\n",
            "    0.00063904 -0.04031356  0.00267664  0.03718266  0.04585446]]\n",
            "\n",
            " [[-0.04898713  0.02676809 -0.0292622   0.00895777 -0.0095344\n",
            "   -0.03707396  0.01283722  0.0156354   0.01766429 -0.02549417]\n",
            "  [-0.04898713  0.02676809 -0.0292622   0.00895777 -0.0095344\n",
            "   -0.03707396  0.01283722  0.0156354   0.01766429 -0.02549417]\n",
            "  [-0.04898713  0.02676809 -0.0292622   0.00895777 -0.0095344\n",
            "   -0.03707396  0.01283722  0.0156354   0.01766429 -0.02549417]\n",
            "  [-0.04898713  0.02676809 -0.0292622   0.00895777 -0.0095344\n",
            "   -0.03707396  0.01283722  0.0156354   0.01766429 -0.02549417]\n",
            "  [ 0.02199962 -0.02709605 -0.00978176  0.03709323  0.02613953\n",
            "   -0.04173116  0.00935407 -0.03405546  0.04438615  0.03241302]\n",
            "  [-0.04768651  0.00566297  0.03443575 -0.04504567 -0.02409365\n",
            "   -0.03452586  0.02915926 -0.04244149  0.00789688 -0.00582433]\n",
            "  [-0.02864064 -0.02370998 -0.03276775 -0.00213872  0.00828834\n",
            "    0.0223207  -0.03680345 -0.04426513 -0.04020549  0.02939837]\n",
            "  [-0.04832838  0.02704123  0.00551607  0.01469744 -0.00969853\n",
            "    0.00175788  0.01880779 -0.04516935  0.00781485  0.02056474]]\n",
            "\n",
            " [[-0.04898713  0.02676809 -0.0292622   0.00895777 -0.0095344\n",
            "   -0.03707396  0.01283722  0.0156354   0.01766429 -0.02549417]\n",
            "  [-0.04898713  0.02676809 -0.0292622   0.00895777 -0.0095344\n",
            "   -0.03707396  0.01283722  0.0156354   0.01766429 -0.02549417]\n",
            "  [-0.04898713  0.02676809 -0.0292622   0.00895777 -0.0095344\n",
            "   -0.03707396  0.01283722  0.0156354   0.01766429 -0.02549417]\n",
            "  [-0.04898713  0.02676809 -0.0292622   0.00895777 -0.0095344\n",
            "   -0.03707396  0.01283722  0.0156354   0.01766429 -0.02549417]\n",
            "  [ 0.02199962 -0.02709605 -0.00978176  0.03709323  0.02613953\n",
            "   -0.04173116  0.00935407 -0.03405546  0.04438615  0.03241302]\n",
            "  [ 0.04013557 -0.0387715   0.04799188 -0.046149   -0.00461103\n",
            "   -0.04579371 -0.00299854 -0.00879141  0.03253493  0.0453882 ]\n",
            "  [-0.02864064 -0.02370998 -0.03276775 -0.00213872  0.00828834\n",
            "    0.0223207  -0.03680345 -0.04426513 -0.04020549  0.02939837]\n",
            "  [-0.00605664 -0.02823787 -0.0276269   0.02139808 -0.02727404\n",
            "   -0.04517365 -0.00435238 -0.04725425 -0.01164724  0.02970019]]\n",
            "\n",
            " [[-0.04898713  0.02676809 -0.0292622   0.00895777 -0.0095344\n",
            "   -0.03707396  0.01283722  0.0156354   0.01766429 -0.02549417]\n",
            "  [-0.04898713  0.02676809 -0.0292622   0.00895777 -0.0095344\n",
            "   -0.03707396  0.01283722  0.0156354   0.01766429 -0.02549417]\n",
            "  [-0.04898713  0.02676809 -0.0292622   0.00895777 -0.0095344\n",
            "   -0.03707396  0.01283722  0.0156354   0.01766429 -0.02549417]\n",
            "  [-0.011814   -0.01215675 -0.01704369  0.04180961 -0.02741197\n",
            "    0.00264953  0.0374113  -0.0087998  -0.00356255  0.01810998]\n",
            "  [-0.02170439  0.01048551  0.00525453  0.03519138  0.01720652\n",
            "    0.0194132   0.02521783  0.00244518  0.04496359 -0.04208757]\n",
            "  [-0.00763996 -0.04068335 -0.01593003  0.00547966 -0.0371487\n",
            "   -0.00196258 -0.01961803 -0.0388042   0.01281837 -0.04365298]\n",
            "  [ 0.00656801 -0.02242344 -0.03400354 -0.02382268  0.04507219\n",
            "    0.00518339  0.02108362 -0.04920021 -0.03328966  0.00495738]\n",
            "  [ 0.00086401  0.02163652 -0.01700532  0.04162795  0.01933897\n",
            "   -0.04208373  0.02965659 -0.04990358  0.021435   -0.00521902]]\n",
            "\n",
            " [[-0.04898713  0.02676809 -0.0292622   0.00895777 -0.0095344\n",
            "   -0.03707396  0.01283722  0.0156354   0.01766429 -0.02549417]\n",
            "  [-0.04898713  0.02676809 -0.0292622   0.00895777 -0.0095344\n",
            "   -0.03707396  0.01283722  0.0156354   0.01766429 -0.02549417]\n",
            "  [-0.04898713  0.02676809 -0.0292622   0.00895777 -0.0095344\n",
            "   -0.03707396  0.01283722  0.0156354   0.01766429 -0.02549417]\n",
            "  [-0.011814   -0.01215675 -0.01704369  0.04180961 -0.02741197\n",
            "    0.00264953  0.0374113  -0.0087998  -0.00356255  0.01810998]\n",
            "  [-0.02170439  0.01048551  0.00525453  0.03519138  0.01720652\n",
            "    0.0194132   0.02521783  0.00244518  0.04496359 -0.04208757]\n",
            "  [-0.00763996 -0.04068335 -0.01593003  0.00547966 -0.0371487\n",
            "   -0.00196258 -0.01961803 -0.0388042   0.01281837 -0.04365298]\n",
            "  [ 0.00656801 -0.02242344 -0.03400354 -0.02382268  0.04507219\n",
            "    0.00518339  0.02108362 -0.04920021 -0.03328966  0.00495738]\n",
            "  [ 0.03463984 -0.02776867  0.02428393 -0.01153728  0.01429759\n",
            "    0.04022492 -0.0215134   0.03997406 -0.04938867  0.04512528]]\n",
            "\n",
            " [[-0.04898713  0.02676809 -0.0292622   0.00895777 -0.0095344\n",
            "   -0.03707396  0.01283722  0.0156354   0.01766429 -0.02549417]\n",
            "  [-0.04898713  0.02676809 -0.0292622   0.00895777 -0.0095344\n",
            "   -0.03707396  0.01283722  0.0156354   0.01766429 -0.02549417]\n",
            "  [-0.04898713  0.02676809 -0.0292622   0.00895777 -0.0095344\n",
            "   -0.03707396  0.01283722  0.0156354   0.01766429 -0.02549417]\n",
            "  [-0.02936023 -0.01080012  0.01627633  0.04061855 -0.0053974\n",
            "    0.04169978 -0.02620311 -0.03389404 -0.03275082 -0.03603535]\n",
            "  [ 0.02199962 -0.02709605 -0.00978176  0.03709323  0.02613953\n",
            "   -0.04173116  0.00935407 -0.03405546  0.04438615  0.03241302]\n",
            "  [-0.03636874 -0.00961449  0.00911672  0.03684518 -0.01984502\n",
            "    0.0256821   0.01745543 -0.00785016 -0.02537458 -0.00629625]\n",
            "  [-0.02864064 -0.02370998 -0.03276775 -0.00213872  0.00828834\n",
            "    0.0223207  -0.03680345 -0.04426513 -0.04020549  0.02939837]\n",
            "  [-0.00460454 -0.04125433 -0.01864738 -0.00495185 -0.01976334\n",
            "    0.0302292  -0.04873997  0.0409863   0.01085474 -0.01528319]]\n",
            "\n",
            " [[-0.04898713  0.02676809 -0.0292622   0.00895777 -0.0095344\n",
            "   -0.03707396  0.01283722  0.0156354   0.01766429 -0.02549417]\n",
            "  [-0.04898713  0.02676809 -0.0292622   0.00895777 -0.0095344\n",
            "   -0.03707396  0.01283722  0.0156354   0.01766429 -0.02549417]\n",
            "  [-0.04898713  0.02676809 -0.0292622   0.00895777 -0.0095344\n",
            "   -0.03707396  0.01283722  0.0156354   0.01766429 -0.02549417]\n",
            "  [-0.04898713  0.02676809 -0.0292622   0.00895777 -0.0095344\n",
            "   -0.03707396  0.01283722  0.0156354   0.01766429 -0.02549417]\n",
            "  [ 0.00854952  0.03339784 -0.00440206 -0.02672399 -0.00381595\n",
            "   -0.00084854 -0.04534379 -0.01785822  0.00294926  0.0185546 ]\n",
            "  [-0.03665705 -0.03345319 -0.02982171  0.00121168  0.01486427\n",
            "    0.03801116  0.01204616 -0.03359579  0.02527327  0.04446869]\n",
            "  [ 0.00164635 -0.01586021  0.03820502 -0.03408799  0.04990983\n",
            "   -0.04499476  0.04246867  0.02088834  0.03654664  0.0310376 ]\n",
            "  [ 0.00656801 -0.02242344 -0.03400354 -0.02382268  0.04507219\n",
            "    0.00518339  0.02108362 -0.04920021 -0.03328966  0.00495738]]]\n"
          ]
        }
      ],
      "source": [
        "print(model.predict(embedded_docs))"
      ]
    },
    {
      "cell_type": "code",
      "execution_count": 17,
      "metadata": {
        "id": "JuUxfk7d0XGH",
        "outputId": "54b0a9f8-b2b5-444c-8321-687723a3a5d2",
        "colab": {
          "base_uri": "https://localhost:8080/"
        }
      },
      "outputs": [
        {
          "output_type": "execute_result",
          "data": {
            "text/plain": [
              "array([  0,   0,   0,   0, 427,  46, 147, 103], dtype=int32)"
            ]
          },
          "metadata": {},
          "execution_count": 17
        }
      ],
      "source": [
        "embedded_docs[0]"
      ]
    },
    {
      "cell_type": "code",
      "execution_count": 18,
      "metadata": {
        "id": "6JJ_zD0u0XGH",
        "outputId": "c48a0179-8bbf-4b4e-e1c9-36abc2ddfcb1",
        "colab": {
          "base_uri": "https://localhost:8080/"
        }
      },
      "outputs": [
        {
          "output_type": "stream",
          "name": "stdout",
          "text": [
            "1/1 [==============================] - 0s 14ms/step\n",
            "[[-0.04898713  0.02676809 -0.0292622   0.00895777 -0.0095344  -0.03707396\n",
            "   0.01283722  0.0156354   0.01766429 -0.02549417]\n",
            " [-0.04898713  0.02676809 -0.0292622   0.00895777 -0.0095344  -0.03707396\n",
            "   0.01283722  0.0156354   0.01766429 -0.02549417]\n",
            " [-0.04898713  0.02676809 -0.0292622   0.00895777 -0.0095344  -0.03707396\n",
            "   0.01283722  0.0156354   0.01766429 -0.02549417]\n",
            " [-0.04898713  0.02676809 -0.0292622   0.00895777 -0.0095344  -0.03707396\n",
            "   0.01283722  0.0156354   0.01766429 -0.02549417]\n",
            " [ 0.02199962 -0.02709605 -0.00978176  0.03709323  0.02613953 -0.04173116\n",
            "   0.00935407 -0.03405546  0.04438615  0.03241302]\n",
            " [-0.04768651  0.00566297  0.03443575 -0.04504567 -0.02409365 -0.03452586\n",
            "   0.02915926 -0.04244149  0.00789688 -0.00582433]\n",
            " [-0.02864064 -0.02370998 -0.03276775 -0.00213872  0.00828834  0.0223207\n",
            "  -0.03680345 -0.04426513 -0.04020549  0.02939837]\n",
            " [-0.00898389  0.03454154  0.02097166  0.01136829  0.00340428  0.00063904\n",
            "  -0.04031356  0.00267664  0.03718266  0.04585446]]\n"
          ]
        }
      ],
      "source": [
        "print(model.predict(embedded_docs)[0])"
      ]
    },
    {
      "cell_type": "code",
      "execution_count": 19,
      "metadata": {
        "id": "8OMu3iAz0XGH"
      },
      "outputs": [],
      "source": [
        "### Assignment\n",
        "\n",
        "sent=[\"The world is a better place\",\n",
        "      \"Marvel series is my favourite movie\",\n",
        "      \"I like DC movies\",\n",
        "      \"the cat is eating the food\",\n",
        "      \"Tom and Jerry is my favourite movie\",\n",
        "      \"Python is my favourite programming language\"\n",
        "      ]"
      ]
    },
    {
      "cell_type": "code",
      "source": [
        "### Vocabulary size\n",
        "voc_size=1000"
      ],
      "metadata": {
        "id": "9zqvZZAoBSfN"
      },
      "execution_count": 23,
      "outputs": []
    },
    {
      "cell_type": "code",
      "source": [
        "onehot_repr=[one_hot(words,voc_size)for words in sent] \n",
        "print(onehot_repr)"
      ],
      "metadata": {
        "colab": {
          "base_uri": "https://localhost:8080/"
        },
        "id": "5hntf_G8BdhU",
        "outputId": "e2db19b0-0db3-4eac-bb97-bca1ac22d197"
      },
      "execution_count": 24,
      "outputs": [
        {
          "output_type": "stream",
          "name": "stdout",
          "text": [
            "[[684, 743, 478, 525, 35, 141], [455, 61, 478, 768, 446, 1], [916, 808, 313, 495], [684, 872, 478, 775, 684, 573], [911, 292, 359, 478, 768, 446, 1], [132, 478, 768, 446, 993, 761]]\n"
          ]
        }
      ]
    },
    {
      "cell_type": "code",
      "source": [
        "## pre padding\n",
        "sent_length=10\n",
        "embedded_docs=pad_sequences(onehot_repr,padding='pre',maxlen=sent_length)\n",
        "print(embedded_docs)"
      ],
      "metadata": {
        "colab": {
          "base_uri": "https://localhost:8080/"
        },
        "id": "-dL4cTsZBda8",
        "outputId": "be266846-a5e7-4753-ac9b-394535706922"
      },
      "execution_count": 26,
      "outputs": [
        {
          "output_type": "stream",
          "name": "stdout",
          "text": [
            "[[  0   0   0   0 684 743 478 525  35 141]\n",
            " [  0   0   0   0 455  61 478 768 446   1]\n",
            " [  0   0   0   0   0   0 916 808 313 495]\n",
            " [  0   0   0   0 684 872 478 775 684 573]\n",
            " [  0   0   0 911 292 359 478 768 446   1]\n",
            " [  0   0   0   0 132 478 768 446 993 761]]\n"
          ]
        }
      ]
    },
    {
      "cell_type": "code",
      "source": [
        "## ndim=10\n",
        "model=Sequential()\n",
        "model.add(Embedding(voc_size,10,input_length=sent_length))\n",
        "model.compile('adam','mse')"
      ],
      "metadata": {
        "id": "BIgT5BD6B-s1"
      },
      "execution_count": 27,
      "outputs": []
    },
    {
      "cell_type": "code",
      "source": [
        "model.summary()"
      ],
      "metadata": {
        "colab": {
          "base_uri": "https://localhost:8080/"
        },
        "id": "xQ5SLsNBCH-S",
        "outputId": "43edecb7-0f98-4109-93af-d090ff21c007"
      },
      "execution_count": 28,
      "outputs": [
        {
          "output_type": "stream",
          "name": "stdout",
          "text": [
            "Model: \"sequential_1\"\n",
            "_________________________________________________________________\n",
            " Layer (type)                Output Shape              Param #   \n",
            "=================================================================\n",
            " embedding_1 (Embedding)     (None, 10, 10)            10000     \n",
            "                                                                 \n",
            "=================================================================\n",
            "Total params: 10,000\n",
            "Trainable params: 10,000\n",
            "Non-trainable params: 0\n",
            "_________________________________________________________________\n"
          ]
        }
      ]
    },
    {
      "cell_type": "code",
      "source": [
        "##'the glass of milk',\n",
        "embedded_docs[0]"
      ],
      "metadata": {
        "colab": {
          "base_uri": "https://localhost:8080/"
        },
        "id": "SPPFCqXQCM5n",
        "outputId": "1c3d4cd7-7773-43df-8b24-de5a48310908"
      },
      "execution_count": 29,
      "outputs": [
        {
          "output_type": "execute_result",
          "data": {
            "text/plain": [
              "array([  0,   0,   0,   0, 684, 743, 478, 525,  35, 141], dtype=int32)"
            ]
          },
          "metadata": {},
          "execution_count": 29
        }
      ]
    },
    {
      "cell_type": "code",
      "source": [
        "model.predict(embedded_docs[0])"
      ],
      "metadata": {
        "colab": {
          "base_uri": "https://localhost:8080/"
        },
        "id": "ZNzqnywVChEa",
        "outputId": "99bffcb6-16b5-46ea-a857-837752bce123"
      },
      "execution_count": 30,
      "outputs": [
        {
          "output_type": "stream",
          "name": "stdout",
          "text": [
            "WARNING:tensorflow:Model was constructed with shape (None, 10) for input KerasTensor(type_spec=TensorSpec(shape=(None, 10), dtype=tf.float32, name='embedding_1_input'), name='embedding_1_input', description=\"created by layer 'embedding_1_input'\"), but it was called on an input with incompatible shape (None,).\n",
            "1/1 [==============================] - 0s 35ms/step\n"
          ]
        },
        {
          "output_type": "execute_result",
          "data": {
            "text/plain": [
              "array([[-0.03268274,  0.00096001, -0.03216665, -0.03632532,  0.02629528,\n",
              "         0.04024892,  0.0477975 ,  0.01092696,  0.00593961, -0.02358617],\n",
              "       [-0.03268274,  0.00096001, -0.03216665, -0.03632532,  0.02629528,\n",
              "         0.04024892,  0.0477975 ,  0.01092696,  0.00593961, -0.02358617],\n",
              "       [-0.03268274,  0.00096001, -0.03216665, -0.03632532,  0.02629528,\n",
              "         0.04024892,  0.0477975 ,  0.01092696,  0.00593961, -0.02358617],\n",
              "       [-0.03268274,  0.00096001, -0.03216665, -0.03632532,  0.02629528,\n",
              "         0.04024892,  0.0477975 ,  0.01092696,  0.00593961, -0.02358617],\n",
              "       [-0.00510947, -0.04432347, -0.04480549, -0.00861651,  0.04983551,\n",
              "         0.03454346, -0.01016061, -0.03021746, -0.01734721, -0.03508289],\n",
              "       [ 0.03378569, -0.04601388,  0.01740653, -0.01984128,  0.02298583,\n",
              "         0.03044888, -0.04183384, -0.0080483 ,  0.00784434, -0.04010233],\n",
              "       [ 0.02805554,  0.02092567, -0.00466685,  0.04994613, -0.02335277,\n",
              "        -0.04455182, -0.02420127, -0.00958167,  0.00987234, -0.02386993],\n",
              "       [-0.00331775, -0.03577051,  0.01367005,  0.04943633, -0.04625137,\n",
              "         0.04441075,  0.02272512, -0.04920349, -0.04532831, -0.0485664 ],\n",
              "       [-0.00513306,  0.03606619,  0.03109867,  0.00754071,  0.04773439,\n",
              "        -0.01343163,  0.02486154, -0.04392665,  0.00354832, -0.03058105],\n",
              "       [ 0.00930916, -0.02803187, -0.00536857, -0.01446588, -0.02700472,\n",
              "        -0.03715664,  0.02954972,  0.04062003, -0.00701691,  0.03420981]],\n",
              "      dtype=float32)"
            ]
          },
          "metadata": {},
          "execution_count": 30
        }
      ]
    },
    {
      "cell_type": "code",
      "source": [
        "print(model.predict(embedded_docs)[0])"
      ],
      "metadata": {
        "colab": {
          "base_uri": "https://localhost:8080/"
        },
        "id": "p-ovk8jBCuAu",
        "outputId": "ef4c6299-1f07-40c7-bd36-a73d2af5dddb"
      },
      "execution_count": 31,
      "outputs": [
        {
          "output_type": "stream",
          "name": "stdout",
          "text": [
            "1/1 [==============================] - 0s 30ms/step\n",
            "[[-0.03268274  0.00096001 -0.03216665 -0.03632532  0.02629528  0.04024892\n",
            "   0.0477975   0.01092696  0.00593961 -0.02358617]\n",
            " [-0.03268274  0.00096001 -0.03216665 -0.03632532  0.02629528  0.04024892\n",
            "   0.0477975   0.01092696  0.00593961 -0.02358617]\n",
            " [-0.03268274  0.00096001 -0.03216665 -0.03632532  0.02629528  0.04024892\n",
            "   0.0477975   0.01092696  0.00593961 -0.02358617]\n",
            " [-0.03268274  0.00096001 -0.03216665 -0.03632532  0.02629528  0.04024892\n",
            "   0.0477975   0.01092696  0.00593961 -0.02358617]\n",
            " [-0.00510947 -0.04432347 -0.04480549 -0.00861651  0.04983551  0.03454346\n",
            "  -0.01016061 -0.03021746 -0.01734721 -0.03508289]\n",
            " [ 0.03378569 -0.04601388  0.01740653 -0.01984128  0.02298583  0.03044888\n",
            "  -0.04183384 -0.0080483   0.00784434 -0.04010233]\n",
            " [ 0.02805554  0.02092567 -0.00466685  0.04994613 -0.02335277 -0.04455182\n",
            "  -0.02420127 -0.00958167  0.00987234 -0.02386993]\n",
            " [-0.00331775 -0.03577051  0.01367005  0.04943633 -0.04625137  0.04441075\n",
            "   0.02272512 -0.04920349 -0.04532831 -0.0485664 ]\n",
            " [-0.00513306  0.03606619  0.03109867  0.00754071  0.04773439 -0.01343163\n",
            "   0.02486154 -0.04392665  0.00354832 -0.03058105]\n",
            " [ 0.00930916 -0.02803187 -0.00536857 -0.01446588 -0.02700472 -0.03715664\n",
            "   0.02954972  0.04062003 -0.00701691  0.03420981]]\n"
          ]
        }
      ]
    }
  ],
  "metadata": {
    "kernelspec": {
      "display_name": "Python 3",
      "language": "python",
      "name": "python3"
    },
    "language_info": {
      "codemirror_mode": {
        "name": "ipython",
        "version": 3
      },
      "file_extension": ".py",
      "mimetype": "text/x-python",
      "name": "python",
      "nbconvert_exporter": "python",
      "pygments_lexer": "ipython3",
      "version": "3.7.4"
    },
    "colab": {
      "name": "Word embedding Techniques.ipynb",
      "provenance": [],
      "collapsed_sections": [],
      "include_colab_link": true
    },
    "accelerator": "GPU",
    "gpuClass": "standard"
  },
  "nbformat": 4,
  "nbformat_minor": 0
}